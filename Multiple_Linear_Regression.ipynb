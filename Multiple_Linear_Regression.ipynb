{
  "metadata": {
    "kernelspec": {
      "language": "python",
      "display_name": "Python 3",
      "name": "python3"
    },
    "language_info": {
      "pygments_lexer": "ipython3",
      "nbconvert_exporter": "python",
      "version": "3.6.4",
      "file_extension": ".py",
      "codemirror_mode": {
        "name": "ipython",
        "version": 3
      },
      "name": "python",
      "mimetype": "text/x-python"
    },
    "colab": {
      "name": "Bike Sharing : Multiple Linear Regression",
      "provenance": []
    }
  },
  "nbformat_minor": 0,
  "nbformat": 4,
  "cells": [
    {
      "source": [
        "\n",
        "# IMPORTANT: RUN THIS CELL IN ORDER TO IMPORT YOUR KAGGLE DATA SOURCES\n",
        "# TO THE CORRECT LOCATION (/kaggle/input) IN YOUR NOTEBOOK,\n",
        "# THEN FEEL FREE TO DELETE THIS CELL.\n",
        "# NOTE: THIS NOTEBOOK ENVIRONMENT DIFFERS FROM KAGGLE'S PYTHON\n",
        "# ENVIRONMENT SO THERE MAY BE MISSING LIBRARIES USED BY YOUR\n",
        "# NOTEBOOK.\n",
        "\n",
        "import os\n",
        "import sys\n",
        "from tempfile import NamedTemporaryFile\n",
        "from urllib.request import urlopen\n",
        "from urllib.parse import unquote, urlparse\n",
        "from urllib.error import HTTPError\n",
        "from zipfile import ZipFile\n",
        "import tarfile\n",
        "import shutil\n",
        "\n",
        "CHUNK_SIZE = 40960\n",
        "DATA_SOURCE_MAPPING = 'bike-sharing:https%3A%2F%2Fstorage.googleapis.com%2Fkaggle-data-sets%2F789011%2F1355226%2Fbundle%2Farchive.zip%3FX-Goog-Algorithm%3DGOOG4-RSA-SHA256%26X-Goog-Credential%3Dgcp-kaggle-com%2540kaggle-161607.iam.gserviceaccount.com%252F20240506%252Fauto%252Fstorage%252Fgoog4_request%26X-Goog-Date%3D20240506T105021Z%26X-Goog-Expires%3D259200%26X-Goog-SignedHeaders%3Dhost%26X-Goog-Signature%3D07c4bd9d4f5cd5bcff45dda918c680074b406f31677ad05b51c9f7e22911c5861a78d49d68446528627055d5117c561ebf64f10d2f232462dccbd11008e328f672cddae6966d2abd3f50593a308f1694ad870f50e6000ac77e8271099adc04adfe6c48cc63875781b2d93244f43afa5fc1c632284500c6269e318a0bc3fbe432b6ac47b845bb033e76fb1d624deeec9d5559026579ba5f36466e008c9cc2d58b6c67633a69e8325529158f7682d9dde44e32b1e5e668d329b0b2c2c83b05b100d7ba18f9e26c1bd7876caefc168f22e8c38b1baa66125caff3e674fd26543f90caa1eac6e2025bbfd32c785a238f17defdabdf6c771eefc161eddea223c64e37'\n",
        "\n",
        "KAGGLE_INPUT_PATH='/kaggle/input'\n",
        "KAGGLE_WORKING_PATH='/kaggle/working'\n",
        "KAGGLE_SYMLINK='kaggle'\n",
        "\n",
        "!umount /kaggle/input/ 2> /dev/null\n",
        "shutil.rmtree('/kaggle/input', ignore_errors=True)\n",
        "os.makedirs(KAGGLE_INPUT_PATH, 0o777, exist_ok=True)\n",
        "os.makedirs(KAGGLE_WORKING_PATH, 0o777, exist_ok=True)\n",
        "\n",
        "try:\n",
        "  os.symlink(KAGGLE_INPUT_PATH, os.path.join(\"..\", 'input'), target_is_directory=True)\n",
        "except FileExistsError:\n",
        "  pass\n",
        "try:\n",
        "  os.symlink(KAGGLE_WORKING_PATH, os.path.join(\"..\", 'working'), target_is_directory=True)\n",
        "except FileExistsError:\n",
        "  pass\n",
        "\n",
        "for data_source_mapping in DATA_SOURCE_MAPPING.split(','):\n",
        "    directory, download_url_encoded = data_source_mapping.split(':')\n",
        "    download_url = unquote(download_url_encoded)\n",
        "    filename = urlparse(download_url).path\n",
        "    destination_path = os.path.join(KAGGLE_INPUT_PATH, directory)\n",
        "    try:\n",
        "        with urlopen(download_url) as fileres, NamedTemporaryFile() as tfile:\n",
        "            total_length = fileres.headers['content-length']\n",
        "            print(f'Downloading {directory}, {total_length} bytes compressed')\n",
        "            dl = 0\n",
        "            data = fileres.read(CHUNK_SIZE)\n",
        "            while len(data) > 0:\n",
        "                dl += len(data)\n",
        "                tfile.write(data)\n",
        "                done = int(50 * dl / int(total_length))\n",
        "                sys.stdout.write(f\"\\r[{'=' * done}{' ' * (50-done)}] {dl} bytes downloaded\")\n",
        "                sys.stdout.flush()\n",
        "                data = fileres.read(CHUNK_SIZE)\n",
        "            if filename.endswith('.zip'):\n",
        "              with ZipFile(tfile) as zfile:\n",
        "                zfile.extractall(destination_path)\n",
        "            else:\n",
        "              with tarfile.open(tfile.name) as tarfile:\n",
        "                tarfile.extractall(destination_path)\n",
        "            print(f'\\nDownloaded and uncompressed: {directory}')\n",
        "    except HTTPError as e:\n",
        "        print(f'Failed to load (likely expired) {download_url} to path {destination_path}')\n",
        "        continue\n",
        "    except OSError as e:\n",
        "        print(f'Failed to load {download_url} to path {destination_path}')\n",
        "        continue\n",
        "\n",
        "print('Data source import complete.')\n"
      ],
      "metadata": {
        "id": "_IfwYFPKhpKl"
      },
      "cell_type": "code",
      "outputs": [],
      "execution_count": null
    },
    {
      "cell_type": "markdown",
      "source": [
        "# Multiple Linear Regression\n",
        "## Bike Sharing Assignment\n",
        "\n",
        "#### Problem Statement:\n",
        "\n",
        "A bike-sharing system is a service in which bikes are made available for shared use to individuals on a short term basis for a price or free. Many bike share systems allow people to borrow a bike from a \"dock\" which is usually computer-controlled wherein the user enters the payment information, and the system unlocks it. This bike can then be returned to another dock belonging to the same system.\n",
        "\n",
        "\n",
        "A US bike-sharing provider BikeIndia has recently suffered considerable dips in their revenues due to the ongoing Corona pandemic. The company is finding it very difficult to sustain in the current market scenario. So, it has decided to come up with a mindful business plan to be able to accelerate its revenue as soon as the ongoing lockdown comes to an end, and the economy restores to a healthy state.\n",
        "\n",
        "\n",
        "In such an attempt, **BikeIndia** aspires to understand the demand for shared bikes among the people after this ongoing quarantine situation ends across the nation due to Covid-19. They have planned this to prepare themselves to cater to the people's needs once the situation gets better all around and stand out from other service providers and make huge profits.\n",
        "\n",
        "\n",
        "They have contracted a consulting company to understand the factors on which the demand for these shared bikes depends. Specifically, they want to understand the factors affecting the demand for these shared bikes in the American market. The company wants to know:\n",
        "\n",
        "Which variables are significant in predicting the demand for shared bikes.\n",
        "How well those variables describe the bike demands\n",
        "Based on various meteorological surveys and people's styles, the service provider firm has gathered a large dataset on daily bike demands across the American market based on some factors.\n",
        "\n",
        "#### Business Goal:\n",
        "\n",
        "We are required to model the demand for shared bikes with the available independent variables. It will be used by the management to understand how exactly the demands vary with different features. They can accordingly manipulate the business strategy to meet the demand levels and meet the customer's expectations. Further, the model will be a good way for management to understand the demand dynamics of a new market."
      ],
      "metadata": {
        "id": "AsMKWdwlhpKn"
      }
    },
    {
      "cell_type": "markdown",
      "source": [
        "##  Reading and Understanding the Data\n"
      ],
      "metadata": {
        "id": "IvoaKwP2hpKo"
      }
    },
    {
      "cell_type": "code",
      "source": [
        "# Supress Warnings\n",
        "\n",
        "import warnings\n",
        "warnings.filterwarnings('ignore')"
      ],
      "metadata": {
        "trusted": true,
        "id": "5Bdya6LkhpKp"
      },
      "execution_count": null,
      "outputs": []
    },
    {
      "cell_type": "code",
      "source": [
        "import numpy as np\n",
        "import pandas as pd\n",
        "import matplotlib.pyplot as plt\n",
        "import seaborn as sns\n",
        "%matplotlib inline"
      ],
      "metadata": {
        "trusted": true,
        "id": "txMWorBQhpKq"
      },
      "execution_count": null,
      "outputs": []
    },
    {
      "cell_type": "code",
      "source": [
        "import os\n",
        "for dirname, _, filenames in os.walk('/kaggle/input'):\n",
        "    for filename in filenames:\n",
        "        print(os.path.join(dirname, filename))"
      ],
      "metadata": {
        "trusted": true,
        "id": "wQgHG0KXhpKq"
      },
      "execution_count": null,
      "outputs": []
    },
    {
      "cell_type": "code",
      "source": [
        "bike = pd.DataFrame(pd.read_csv(\"/kaggle/input/bike-sharing/day.csv\"))"
      ],
      "metadata": {
        "trusted": true,
        "id": "EQqYfqxlhpKq"
      },
      "execution_count": null,
      "outputs": []
    },
    {
      "cell_type": "code",
      "source": [
        "# Check the head of the dataset\n",
        "bike.head()"
      ],
      "metadata": {
        "trusted": true,
        "id": "j8REpwuehpKq"
      },
      "execution_count": null,
      "outputs": []
    },
    {
      "cell_type": "code",
      "source": [
        "# Check the descriptive information\n",
        "bike.info()"
      ],
      "metadata": {
        "trusted": true,
        "id": "plgXBlvPhpKr"
      },
      "execution_count": null,
      "outputs": []
    },
    {
      "cell_type": "code",
      "source": [
        "bike.describe()"
      ],
      "metadata": {
        "trusted": true,
        "id": "7JmaGnjPhpKr"
      },
      "execution_count": null,
      "outputs": []
    },
    {
      "cell_type": "code",
      "source": [
        "# Check the shape of df\n",
        "\n",
        "print(bike.shape)"
      ],
      "metadata": {
        "trusted": true,
        "id": "LgvY2YgWhpKr"
      },
      "execution_count": null,
      "outputs": []
    },
    {
      "cell_type": "markdown",
      "source": [
        "## Finding :\n",
        "Dataset has 730 rows and 16 columns.\n",
        "\n",
        "Except one column, all other are either float or integer type.\n",
        "\n",
        "One column is date type.\n",
        "\n",
        "Looking at the data, there seems to be some fields that are categorical in nature, but in integer/float type.\n",
        "\n",
        "We will analyse and finalize whether to convert them to categorical or treat as integer."
      ],
      "metadata": {
        "id": "gHyLoCMVhpKr"
      }
    },
    {
      "cell_type": "markdown",
      "source": [
        "# DATA QUALITY CHECK"
      ],
      "metadata": {
        "id": "g20mX9eOhpKr"
      }
    },
    {
      "cell_type": "markdown",
      "source": [
        "## Check for NULL/MISSING values"
      ],
      "metadata": {
        "id": "Ts8v0RNOhpKr"
      }
    },
    {
      "cell_type": "code",
      "source": [
        "# percentage of missing values in each column\n",
        "round(100*(bike.isnull().sum()/len(bike)), 2).sort_values(ascending=False)"
      ],
      "metadata": {
        "trusted": true,
        "id": "D4XcVj3shpKr"
      },
      "execution_count": null,
      "outputs": []
    },
    {
      "cell_type": "code",
      "source": [
        "# row-wise null count percentage\n",
        "round((bike.isnull().sum(axis=1)/len(bike))*100,2).sort_values(ascending=False)"
      ],
      "metadata": {
        "trusted": true,
        "id": "hIf58x6bhpKs"
      },
      "execution_count": null,
      "outputs": []
    },
    {
      "cell_type": "markdown",
      "source": [
        "## Finding\n",
        "There are no missing / Null values either in columns or rows"
      ],
      "metadata": {
        "id": "qf3zVHn0hpKs"
      }
    },
    {
      "cell_type": "markdown",
      "source": [
        "## Duplicate Check"
      ],
      "metadata": {
        "id": "EcPJKZGIhpKs"
      }
    },
    {
      "cell_type": "code",
      "source": [
        "bike_dup = bike.copy()\n",
        "\n",
        "# Checking for duplicates and dropping the entire duplicate row if any\n",
        "bike_dup.drop_duplicates(subset=None, inplace=True)"
      ],
      "metadata": {
        "trusted": true,
        "id": "HmaCcS9qhpKs"
      },
      "execution_count": null,
      "outputs": []
    },
    {
      "cell_type": "code",
      "source": [
        "bike_dup.shape"
      ],
      "metadata": {
        "trusted": true,
        "id": "ka08JZtHhpKs"
      },
      "execution_count": null,
      "outputs": []
    },
    {
      "cell_type": "code",
      "source": [
        "bike.shape"
      ],
      "metadata": {
        "trusted": true,
        "id": "-XI3tVojhpKs"
      },
      "execution_count": null,
      "outputs": []
    },
    {
      "cell_type": "markdown",
      "source": [
        "### Insights\n",
        "\n",
        "The shape after running the drop duplicate command is same as the original dataframe.\n",
        "\n",
        "Hence we can conclude that there were zero duplicate values in the dataset."
      ],
      "metadata": {
        "id": "gopE4tHPhpKs"
      }
    },
    {
      "cell_type": "markdown",
      "source": [
        "## Data Cleaning\n",
        "\n",
        "Checking value_counts() for entire dataframe.\n",
        "\n",
        "This will help to identify any Unknow/Junk values present in the dataset."
      ],
      "metadata": {
        "id": "nsLDiimChpKs"
      }
    },
    {
      "cell_type": "code",
      "source": [
        "#Create a copy of the  dataframe, without the 'instant' column,\n",
        "\n",
        "#as this will have unique values, and donot make sense to do a value count on it.\n",
        "\n",
        "bike_dummy=bike.iloc[:,1:16]"
      ],
      "metadata": {
        "trusted": true,
        "id": "rhAF2G5bhpKt"
      },
      "execution_count": null,
      "outputs": []
    },
    {
      "cell_type": "code",
      "source": [
        "for col in bike_dummy:\n",
        "    print(bike_dummy[col].value_counts(ascending=False), '\\n\\n\\n')"
      ],
      "metadata": {
        "trusted": true,
        "id": "mCdGDpkAhpKt"
      },
      "execution_count": null,
      "outputs": []
    },
    {
      "cell_type": "markdown",
      "source": [
        "### Insights\n",
        "There seems to be no Junk/Unknown values in the entire dataset."
      ],
      "metadata": {
        "id": "Id5Z9mtdhpKt"
      }
    },
    {
      "cell_type": "markdown",
      "source": [
        "# Removing redundant & unwanted columns"
      ],
      "metadata": {
        "id": "ih-FH4cFhpKt"
      }
    },
    {
      "cell_type": "markdown",
      "source": [
        "Based on the high level look at the data and the data dictionary, the following variables can be removed from further analysis:\n",
        "\n",
        "1. **instant** : Its only an index value\n",
        "\n",
        "2. **dteday** : This has the date, Since we already have seperate columns for 'year' & 'month',hence, we could live without this column.\n",
        "\n",
        "3.  **casual & registered** : Both these columns contains the count of bike booked by different categories of customers.\n",
        "Since our objective is to find the total count of bikes and not by specific category, we will ignore these two columns.\n",
        "More over, we have created a new variable to have the ratio of these customer types.\n",
        "\n",
        "4.  We will save the new dataframe as bike_new, so that the original dataset is preserved for any future analysis/validation"
      ],
      "metadata": {
        "id": "SqiLq6x6hpKt"
      }
    },
    {
      "cell_type": "code",
      "source": [
        "bike.columns"
      ],
      "metadata": {
        "trusted": true,
        "id": "E49Le5tVhpKt"
      },
      "execution_count": null,
      "outputs": []
    },
    {
      "cell_type": "code",
      "source": [
        "bike_new=bike[['season', 'yr', 'mnth', 'holiday', 'weekday',\n",
        "       'workingday', 'weathersit', 'temp', 'atemp', 'hum', 'windspeed',\n",
        "       'cnt']]\n"
      ],
      "metadata": {
        "trusted": true,
        "id": "gqBwm7zBhpKt"
      },
      "execution_count": null,
      "outputs": []
    },
    {
      "cell_type": "code",
      "source": [
        "bike_new.info()"
      ],
      "metadata": {
        "trusted": true,
        "id": "Qh4GW5eXhpKt"
      },
      "execution_count": null,
      "outputs": []
    },
    {
      "cell_type": "markdown",
      "source": [
        "# Creating Dummy Variables"
      ],
      "metadata": {
        "id": "ZVxqwdCVhpKu"
      }
    },
    {
      "cell_type": "markdown",
      "source": [
        "We will create DUMMY variables for 4 categorical variables 'mnth', 'weekday', 'season' & 'weathersit'.\n",
        "- Before creating dummy variables, we will have to convert them into 'category' data types."
      ],
      "metadata": {
        "id": "59yAqA9mhpKu"
      }
    },
    {
      "cell_type": "code",
      "source": [
        "# Check the datatypes before convertion\n",
        "bike_new.info()"
      ],
      "metadata": {
        "trusted": true,
        "id": "gVruTOT5hpKu"
      },
      "execution_count": null,
      "outputs": []
    },
    {
      "cell_type": "code",
      "source": [
        "# Convert to 'category' data type\n",
        "\n",
        "bike_new['season']=bike_new['season'].astype('category')\n",
        "bike_new['weathersit']=bike_new['weathersit'].astype('category')\n",
        "bike_new['mnth']=bike_new['mnth'].astype('category')\n",
        "bike_new['weekday']=bike_new['weekday'].astype('category')\n"
      ],
      "metadata": {
        "trusted": true,
        "id": "cLDje6InhpKu"
      },
      "execution_count": null,
      "outputs": []
    },
    {
      "cell_type": "code",
      "source": [
        "bike_new.info()"
      ],
      "metadata": {
        "trusted": true,
        "id": "ug7J_m36hpKu"
      },
      "execution_count": null,
      "outputs": []
    },
    {
      "cell_type": "code",
      "source": [
        "# This code does 3 things:\n",
        "# 1) Create Dummy variable\n",
        "# 2) Drop original variable for which the dummy was created\n",
        "# 3) Drop first dummy variable for each set of dummies created.\n",
        "\n",
        "bike_new = pd.get_dummies(bike_new, drop_first=True)\n",
        "bike_new.info()"
      ],
      "metadata": {
        "trusted": true,
        "id": "R_FYg4gxhpKu"
      },
      "execution_count": null,
      "outputs": []
    },
    {
      "cell_type": "code",
      "source": [
        "bike_new.shape"
      ],
      "metadata": {
        "trusted": true,
        "id": "R8Evz4dXhpKu"
      },
      "execution_count": null,
      "outputs": []
    },
    {
      "cell_type": "markdown",
      "source": [
        "## SPLITTING THE DATA\n",
        "- Splitting the data to Train and Test: - We will now split the data into TRAIN and TEST (70:30 ratio)\n",
        "- We will use train_test_split method from sklearn package for this"
      ],
      "metadata": {
        "id": "KYSdQUmfhpKu"
      }
    },
    {
      "cell_type": "code",
      "source": [
        "# Check the shape before spliting\n",
        "\n",
        "bike_new.shape"
      ],
      "metadata": {
        "trusted": true,
        "id": "dGlMn2vahpK1"
      },
      "execution_count": null,
      "outputs": []
    },
    {
      "cell_type": "code",
      "source": [
        "# Check the info before spliting\n",
        "\n",
        "bike_new.info()"
      ],
      "metadata": {
        "trusted": true,
        "id": "q2K3SyFmhpK1"
      },
      "execution_count": null,
      "outputs": []
    },
    {
      "cell_type": "code",
      "source": [
        "from sklearn.model_selection import train_test_split\n",
        "\n",
        "# We should specify 'random_state' so that the train and test data set always have the same rows, respectively\n",
        "\n",
        "np.random.seed(0)\n",
        "df_train, df_test = train_test_split(bike_new, train_size = 0.70, test_size = 0.30, random_state = 333)"
      ],
      "metadata": {
        "trusted": true,
        "id": "T9WSDozLhpK2"
      },
      "execution_count": null,
      "outputs": []
    },
    {
      "cell_type": "markdown",
      "source": [
        "\n",
        "- Verify the info and shape of the dataframes after split:"
      ],
      "metadata": {
        "id": "4Fwn7EqKhpK2"
      }
    },
    {
      "cell_type": "code",
      "source": [
        "df_train.info()"
      ],
      "metadata": {
        "trusted": true,
        "id": "JT_q716nhpK2"
      },
      "execution_count": null,
      "outputs": []
    },
    {
      "cell_type": "code",
      "source": [
        "df_train.shape"
      ],
      "metadata": {
        "trusted": true,
        "id": "KM3WvowFhpK2"
      },
      "execution_count": null,
      "outputs": []
    },
    {
      "cell_type": "code",
      "source": [
        "df_test.info()"
      ],
      "metadata": {
        "trusted": true,
        "id": "Q5mTc33PhpK2"
      },
      "execution_count": null,
      "outputs": []
    },
    {
      "cell_type": "code",
      "source": [
        "df_test.shape"
      ],
      "metadata": {
        "trusted": true,
        "id": "s1xxDQj7hpK2"
      },
      "execution_count": null,
      "outputs": []
    },
    {
      "cell_type": "markdown",
      "source": [
        "# EXPLORATORY DATA ANALYSIS"
      ],
      "metadata": {
        "id": "iDm7QvA4hpK2"
      }
    },
    {
      "cell_type": "markdown",
      "source": [
        "\n",
        "- We need to  perform the EDA on TRAINING (df_train) Dataset."
      ],
      "metadata": {
        "id": "EFyBbeM1hpK2"
      }
    },
    {
      "cell_type": "markdown",
      "source": [
        "## Visualising Numeric Variables\n",
        "Let's make a pairplot of all the numeric variables."
      ],
      "metadata": {
        "id": "RO8h6SSjhpK2"
      }
    },
    {
      "cell_type": "code",
      "source": [
        "df_train.info()"
      ],
      "metadata": {
        "trusted": true,
        "id": "WPS_lzU7hpK2"
      },
      "execution_count": null,
      "outputs": []
    },
    {
      "cell_type": "code",
      "source": [
        "df_train.columns"
      ],
      "metadata": {
        "trusted": true,
        "id": "zL4PStpphpK2"
      },
      "execution_count": null,
      "outputs": []
    },
    {
      "cell_type": "code",
      "source": [
        "# Create a new dataframe of only numeric variables:\n",
        "\n",
        "bike_num=df_train[[ 'temp', 'atemp', 'hum', 'windspeed','cnt']]\n",
        "\n",
        "sns.pairplot(bike_num, diag_kind='kde')\n",
        "plt.show()"
      ],
      "metadata": {
        "trusted": true,
        "id": "X_lYDBT2hpK3"
      },
      "execution_count": null,
      "outputs": []
    },
    {
      "cell_type": "markdown",
      "source": [
        "### Insights\n",
        "- The above Pair-Plot tells us that there is a LINEAR RELATION between 'temp','atemp' and 'cnt'"
      ],
      "metadata": {
        "id": "cQNvWqi_hpK3"
      }
    },
    {
      "cell_type": "markdown",
      "source": [
        "## Visualising Catagorical Variables"
      ],
      "metadata": {
        "id": "NfAujJO2hpK3"
      }
    },
    {
      "cell_type": "code",
      "source": [
        "df_train.info()"
      ],
      "metadata": {
        "trusted": true,
        "id": "Ri77ahLyhpK3"
      },
      "execution_count": null,
      "outputs": []
    },
    {
      "cell_type": "code",
      "source": [
        "# Build boxplot of all categorical variables (before creating dummies) againt the target variable 'cnt'\n",
        "# to see how each of the predictor variable stackup against the target variable.\n",
        "\n",
        "plt.figure(figsize=(25, 10))\n",
        "plt.subplot(2,3,1)\n",
        "sns.boxplot(x = 'season', y = 'cnt', data = bike)\n",
        "plt.subplot(2,3,2)\n",
        "sns.boxplot(x = 'mnth', y = 'cnt', data = bike)\n",
        "plt.subplot(2,3,3)\n",
        "sns.boxplot(x = 'weathersit', y = 'cnt', data = bike)\n",
        "plt.subplot(2,3,4)\n",
        "sns.boxplot(x = 'holiday', y = 'cnt', data = bike)\n",
        "plt.subplot(2,3,5)\n",
        "sns.boxplot(x = 'weekday', y = 'cnt', data = bike)\n",
        "plt.subplot(2,3,6)\n",
        "sns.boxplot(x = 'workingday', y = 'cnt', data = bike)\n",
        "plt.show()"
      ],
      "metadata": {
        "trusted": true,
        "id": "hLm5FapshpK3"
      },
      "execution_count": null,
      "outputs": []
    },
    {
      "cell_type": "markdown",
      "source": [
        "### Insights\n",
        "There were 6 categorical variables in the dataset.\n",
        "\n",
        "We used Box plot (refer the fig above) to study their effect on the dependent variable (‘cnt’) .\n",
        "\n",
        "The inference that We could derive were:\n",
        "- **season**: Almost 32% of the bike booking were happening in season3 with a median of over 5000 booking (for the period of 2 years). This was followed by season2 & season4 with 27% & 25% of total booking. This indicates, season can be a good predictor for the dependent variable.\n",
        "\n",
        "- **mnth**: Almost 10% of the bike booking were happening in the months 5,6,7,8 & 9 with a median of over 4000 booking per month. This indicates, mnth has some trend for bookings and can be a good predictor for the dependent variable.\n",
        "- **weathersit**: Almost 67% of the bike booking were happening during ‘weathersit1 with a median of close to 5000 booking (for the period of 2 years). This was followed by weathersit2 with 30% of total booking. This indicates, weathersit does show some trend towards the bike bookings can be a good predictor for the dependent variable.\n",
        "- **holiday**: Almost 97.6% of the bike booking were happening when it is not a holiday which means this data is clearly biased. This indicates, holiday CANNOT be a good predictor for the dependent variable.\n",
        "- **weekday**: weekday variable shows very close trend (between 13.5%-14.8% of total booking on all days of the week) having their independent medians between 4000 to 5000 bookings. This variable can have some or no influence towards the predictor. I will let the model decide if this needs to be added or not.\n",
        "- **workingday**: Almost 69% of the bike booking were happening in ‘workingday’ with a median of close to 5000 booking (for the period of 2 years). This indicates, workingday can be a good predictor for the dependent variable"
      ],
      "metadata": {
        "id": "jXT4vjWHhpK3"
      }
    },
    {
      "cell_type": "markdown",
      "source": [
        "## Correlation Matrix"
      ],
      "metadata": {
        "id": "Pzt0dWR0hpK3"
      }
    },
    {
      "cell_type": "code",
      "source": [
        "# Let's check the correlation coefficients to see which variables are highly correlated. Note:\n",
        "# here we are considering only those variables (dataframe: bike_new) that were chosen for analysis\n",
        "\n",
        "plt.figure(figsize = (25,20))\n",
        "sns.heatmap(bike_new.corr(), annot = True, cmap=\"RdBu\")\n",
        "plt.show()"
      ],
      "metadata": {
        "trusted": true,
        "id": "EwSYni9jhpK4"
      },
      "execution_count": null,
      "outputs": []
    },
    {
      "cell_type": "markdown",
      "source": [
        "### Insights:\n",
        " - The heatmap clearly shows which all variable are multicollinear in nature, and which variable have high collinearity with the target variable.\n",
        " - We will refer this map back-and-forth while building the linear model so as to validate different correlated values along with VIF & p-value, for identifying the correct variable to select/eliminate from the model."
      ],
      "metadata": {
        "id": "ZFi4Bs_rhpK4"
      }
    },
    {
      "cell_type": "markdown",
      "source": [
        "# RESCALING THE FEATURES"
      ],
      "metadata": {
        "id": "nDrfYqYwhpK4"
      }
    },
    {
      "cell_type": "code",
      "source": [
        "from sklearn.preprocessing import MinMaxScaler"
      ],
      "metadata": {
        "trusted": true,
        "id": "2eNzrxWNhpK4"
      },
      "execution_count": null,
      "outputs": []
    },
    {
      "cell_type": "code",
      "source": [
        "scaler = MinMaxScaler()"
      ],
      "metadata": {
        "trusted": true,
        "id": "JRdPd8NVhpK4"
      },
      "execution_count": null,
      "outputs": []
    },
    {
      "cell_type": "code",
      "source": [
        "# Checking the values before scaling\n",
        "df_train.head()"
      ],
      "metadata": {
        "trusted": true,
        "id": "TJ9HhdfBhpK4"
      },
      "execution_count": null,
      "outputs": []
    },
    {
      "cell_type": "code",
      "source": [
        "df_train.columns"
      ],
      "metadata": {
        "trusted": true,
        "id": "NNPNhGjehpK4"
      },
      "execution_count": null,
      "outputs": []
    },
    {
      "cell_type": "code",
      "source": [
        "# Apply scaler() to all the numeric variables\n",
        "\n",
        "num_vars = ['temp', 'atemp', 'hum', 'windspeed','cnt']\n",
        "\n",
        "df_train[num_vars] = scaler.fit_transform(df_train[num_vars])"
      ],
      "metadata": {
        "trusted": true,
        "id": "ubgZHj28hpK4"
      },
      "execution_count": null,
      "outputs": []
    },
    {
      "cell_type": "code",
      "source": [
        "# Checking values after scaling\n",
        "df_train.head()"
      ],
      "metadata": {
        "trusted": true,
        "id": "040aE3i6hpK4"
      },
      "execution_count": null,
      "outputs": []
    },
    {
      "cell_type": "code",
      "source": [
        "df_train.describe()"
      ],
      "metadata": {
        "trusted": true,
        "id": "9l_hRQ7mhpK5"
      },
      "execution_count": null,
      "outputs": []
    },
    {
      "cell_type": "markdown",
      "source": [
        "# BUILDING A LINEAR MODEL"
      ],
      "metadata": {
        "id": "CMs6dvCihpK5"
      }
    },
    {
      "cell_type": "markdown",
      "source": [
        "## Dividing into X and Y sets for the model building"
      ],
      "metadata": {
        "id": "kc52V6TAhpK5"
      }
    },
    {
      "cell_type": "code",
      "source": [
        "y_train = df_train.pop('cnt')\n",
        "X_train = df_train"
      ],
      "metadata": {
        "trusted": true,
        "id": "dJtXKt-chpK5"
      },
      "execution_count": null,
      "outputs": []
    },
    {
      "cell_type": "markdown",
      "source": [
        "### RFE\n",
        "Recursive feature elimination: We will be using the **LinearRegression function from SciKit Learn**  for its compatibility with RFE (which is a utility from sklearn)"
      ],
      "metadata": {
        "id": "6jzVpixMhpK5"
      }
    },
    {
      "cell_type": "code",
      "source": [
        "# Importing RFE and LinearRegression\n",
        "from sklearn.feature_selection import RFE\n",
        "from sklearn.linear_model import LinearRegression"
      ],
      "metadata": {
        "trusted": true,
        "id": "lMqf4Nj9hpK5"
      },
      "execution_count": null,
      "outputs": []
    },
    {
      "cell_type": "code",
      "source": [
        "# Running RFE with the output number of the variable equal to 15\n",
        "lm = LinearRegression()\n",
        "lm.fit(X_train, y_train)\n",
        "\n",
        "rfe = RFE(lm, 15)             # running RFE\n",
        "rfe = rfe.fit(X_train, y_train)"
      ],
      "metadata": {
        "trusted": true,
        "id": "5C9T-IkMhpK5"
      },
      "execution_count": null,
      "outputs": []
    },
    {
      "cell_type": "code",
      "source": [
        "list(zip(X_train.columns,rfe.support_,rfe.ranking_))"
      ],
      "metadata": {
        "trusted": true,
        "id": "vcdDFni_hpK5"
      },
      "execution_count": null,
      "outputs": []
    },
    {
      "cell_type": "code",
      "source": [
        "col = X_train.columns[rfe.support_]\n",
        "col"
      ],
      "metadata": {
        "trusted": true,
        "id": "AbOlnTFThpK5"
      },
      "execution_count": null,
      "outputs": []
    },
    {
      "cell_type": "code",
      "source": [
        "X_train.columns[~rfe.support_]"
      ],
      "metadata": {
        "trusted": true,
        "id": "N_Lod-QKhpK7"
      },
      "execution_count": null,
      "outputs": []
    },
    {
      "cell_type": "code",
      "source": [
        "# Creating X_test dataframe with RFE selected variables\n",
        "X_train_rfe = X_train[col]"
      ],
      "metadata": {
        "trusted": true,
        "id": "8MulHY54hpK8"
      },
      "execution_count": null,
      "outputs": []
    },
    {
      "cell_type": "markdown",
      "source": [
        "# Building Linear Model using 'STATS MODEL'"
      ],
      "metadata": {
        "id": "nod0U08ThpK8"
      }
    },
    {
      "cell_type": "markdown",
      "source": [
        "## Model 1"
      ],
      "metadata": {
        "id": "4f9fkybZhpK8"
      }
    },
    {
      "cell_type": "markdown",
      "source": [
        "### VIF Check"
      ],
      "metadata": {
        "id": "oHzOsqxnhpK8"
      }
    },
    {
      "cell_type": "code",
      "source": [
        "# Check for the VIF values of the feature variables.\n",
        "from statsmodels.stats.outliers_influence import variance_inflation_factor\n",
        "\n",
        "# Create a dataframe that will contain the names of all the feature variables and their respective VIFs\n",
        "vif = pd.DataFrame()\n",
        "vif['Features'] = X_train_rfe.columns\n",
        "vif['VIF'] = [variance_inflation_factor(X_train_rfe.values, i) for i in range(X_train_rfe.shape[1])]\n",
        "vif['VIF'] = round(vif['VIF'], 2)\n",
        "vif = vif.sort_values(by = \"VIF\", ascending = False)\n",
        "vif"
      ],
      "metadata": {
        "trusted": true,
        "id": "pU453GYyhpK8"
      },
      "execution_count": null,
      "outputs": []
    },
    {
      "cell_type": "code",
      "source": [
        "import statsmodels.api as sm\n",
        "\n",
        "# Add a constant\n",
        "X_train_lm1 = sm.add_constant(X_train_rfe)\n",
        "\n",
        "# Create a first fitted model\n",
        "lr1 = sm.OLS(y_train, X_train_lm1).fit()"
      ],
      "metadata": {
        "trusted": true,
        "id": "r3SdJxhghpK8"
      },
      "execution_count": null,
      "outputs": []
    },
    {
      "cell_type": "code",
      "source": [
        "# Check the parameters obtained\n",
        "\n",
        "lr1.params"
      ],
      "metadata": {
        "trusted": true,
        "id": "xhUiKubjhpK8"
      },
      "execution_count": null,
      "outputs": []
    },
    {
      "cell_type": "code",
      "source": [
        "# Print a summary of the linear regression model obtained\n",
        "print(lr1.summary())"
      ],
      "metadata": {
        "trusted": true,
        "id": "tGCaeNEOhpK8"
      },
      "execution_count": null,
      "outputs": []
    },
    {
      "cell_type": "markdown",
      "source": [
        "## Model 2"
      ],
      "metadata": {
        "id": "-RB_tFp5hpK9"
      }
    },
    {
      "cell_type": "markdown",
      "source": [
        "- Removing the variable 'atemp' based on its High p-value & High VIF"
      ],
      "metadata": {
        "id": "Hr-afB8bhpK9"
      }
    },
    {
      "cell_type": "code",
      "source": [
        "X_train_new = X_train_rfe.drop([\"atemp\"], axis = 1)"
      ],
      "metadata": {
        "trusted": true,
        "id": "cmYiHGyWhpK9"
      },
      "execution_count": null,
      "outputs": []
    },
    {
      "cell_type": "markdown",
      "source": [
        "### VIF Check"
      ],
      "metadata": {
        "id": "OkDXH9qYhpK9"
      }
    },
    {
      "cell_type": "code",
      "source": [
        "# Check for the VIF values of the feature variables.\n",
        "from statsmodels.stats.outliers_influence import variance_inflation_factor\n",
        "\n",
        "# Create a dataframe that will contain the names of all the feature variables and their respective VIFs\n",
        "vif = pd.DataFrame()\n",
        "vif['Features'] = X_train_new.columns\n",
        "vif['VIF'] = [variance_inflation_factor(X_train_new.values, i) for i in range(X_train_new.shape[1])]\n",
        "vif['VIF'] = round(vif['VIF'], 2)\n",
        "vif = vif.sort_values(by = \"VIF\", ascending = False)\n",
        "vif"
      ],
      "metadata": {
        "trusted": true,
        "id": "GNXq-yuuhpK9"
      },
      "execution_count": null,
      "outputs": []
    },
    {
      "cell_type": "code",
      "source": [
        "# Add a constant\n",
        "X_train_lm2 = sm.add_constant(X_train_new)\n",
        "\n",
        "# Create a first fitted model\n",
        "lr2 = sm.OLS(y_train, X_train_lm2).fit()"
      ],
      "metadata": {
        "trusted": true,
        "id": "ujucwFIFhpK9"
      },
      "execution_count": null,
      "outputs": []
    },
    {
      "cell_type": "code",
      "source": [
        "# Check the parameters obtained\n",
        "\n",
        "lr2.params"
      ],
      "metadata": {
        "trusted": true,
        "id": "ISYEvMSIhpK9"
      },
      "execution_count": null,
      "outputs": []
    },
    {
      "cell_type": "code",
      "source": [
        "# Print a summary of the linear regression model obtained\n",
        "print(lr2.summary())"
      ],
      "metadata": {
        "trusted": true,
        "id": "ZlsEOesZhpK9"
      },
      "execution_count": null,
      "outputs": []
    },
    {
      "cell_type": "markdown",
      "source": [
        "## Model 3"
      ],
      "metadata": {
        "id": "eyrtK9zFhpK9"
      }
    },
    {
      "cell_type": "markdown",
      "source": [
        " - Removing the variable 'hum' based on its Very High 'VIF' value.\n",
        " - Even though the VIF of hum is second highest, we decided to drop 'hum' and not 'temp' based on general knowledge that temperature can be an important factor for a business like bike rentals, and wanted to retain 'temp'."
      ],
      "metadata": {
        "id": "Cj9PzeM1hpK9"
      }
    },
    {
      "cell_type": "code",
      "source": [
        "X_train_new = X_train_new.drop([\"hum\"], axis = 1)"
      ],
      "metadata": {
        "trusted": true,
        "id": "8HcbsIbPhpK9"
      },
      "execution_count": null,
      "outputs": []
    },
    {
      "cell_type": "markdown",
      "source": [
        "### VIF Check"
      ],
      "metadata": {
        "id": "zdykxabkhpK-"
      }
    },
    {
      "cell_type": "code",
      "source": [
        "# Check for the VIF values of the feature variables.\n",
        "from statsmodels.stats.outliers_influence import variance_inflation_factor\n",
        "\n",
        "# Create a dataframe that will contain the names of all the feature variables and their respective VIFs\n",
        "vif = pd.DataFrame()\n",
        "vif['Features'] = X_train_new.columns\n",
        "vif['VIF'] = [variance_inflation_factor(X_train_new.values, i) for i in range(X_train_new.shape[1])]\n",
        "vif['VIF'] = round(vif['VIF'], 2)\n",
        "vif = vif.sort_values(by = \"VIF\", ascending = False)\n",
        "vif"
      ],
      "metadata": {
        "trusted": true,
        "id": "NVfDzI5thpK-"
      },
      "execution_count": null,
      "outputs": []
    },
    {
      "cell_type": "code",
      "source": [
        "# Add a constant\n",
        "X_train_lm3 = sm.add_constant(X_train_new)\n",
        "\n",
        "# Create a first fitted model\n",
        "lr3 = sm.OLS(y_train, X_train_lm3).fit()"
      ],
      "metadata": {
        "trusted": true,
        "id": "jAeu-A4UhpK-"
      },
      "execution_count": null,
      "outputs": []
    },
    {
      "cell_type": "code",
      "source": [
        "lr3.params"
      ],
      "metadata": {
        "trusted": true,
        "id": "OkgWmL1mhpK-"
      },
      "execution_count": null,
      "outputs": []
    },
    {
      "cell_type": "code",
      "source": [
        "# Print a summary of the linear regression model obtained\n",
        "print(lr3.summary())"
      ],
      "metadata": {
        "trusted": true,
        "id": "PyGnRE53hpK-"
      },
      "execution_count": null,
      "outputs": []
    },
    {
      "cell_type": "markdown",
      "source": [
        "## Model 4"
      ],
      "metadata": {
        "id": "W5yNLTfbhpK-"
      }
    },
    {
      "cell_type": "markdown",
      "source": [
        "- Removing the variable 'season3' based on its Very High 'VIF' value.\n",
        "- Even though the VIF of season3 is second highest, we decided to drop 'season3' and not 'temp' based on general knowledge that temperature can be an important factor for a business like bike rentals, and wanted to retain 'temp'."
      ],
      "metadata": {
        "id": "VcT_1-lChpK-"
      }
    },
    {
      "cell_type": "code",
      "source": [
        "X_train_new = X_train_new.drop([\"season_3\"], axis = 1)"
      ],
      "metadata": {
        "trusted": true,
        "id": "oCQnRUMOhpK-"
      },
      "execution_count": null,
      "outputs": []
    },
    {
      "cell_type": "markdown",
      "source": [
        "### VIF Check"
      ],
      "metadata": {
        "id": "h8rkdV9VhpK-"
      }
    },
    {
      "cell_type": "code",
      "source": [
        "# Check for the VIF values of the feature variables.\n",
        "from statsmodels.stats.outliers_influence import variance_inflation_factor\n",
        "\n",
        "# Create a dataframe that will contain the names of all the feature variables and their respective VIFs\n",
        "vif = pd.DataFrame()\n",
        "vif['Features'] = X_train_new.columns\n",
        "vif['VIF'] = [variance_inflation_factor(X_train_new.values, i) for i in range(X_train_new.shape[1])]\n",
        "vif['VIF'] = round(vif['VIF'], 2)\n",
        "vif = vif.sort_values(by = \"VIF\", ascending = False)\n",
        "vif"
      ],
      "metadata": {
        "trusted": true,
        "id": "QW17DobFhpK-"
      },
      "execution_count": null,
      "outputs": []
    },
    {
      "cell_type": "code",
      "source": [
        "# Add a constant\n",
        "X_train_lm4 = sm.add_constant(X_train_new)\n",
        "\n",
        "# Create a first fitted model\n",
        "lr4 = sm.OLS(y_train, X_train_lm4).fit()"
      ],
      "metadata": {
        "trusted": true,
        "id": "I-ZWisT1hpK_"
      },
      "execution_count": null,
      "outputs": []
    },
    {
      "cell_type": "code",
      "source": [
        "# Check the parameters obtained\n",
        "\n",
        "lr4.params"
      ],
      "metadata": {
        "trusted": true,
        "id": "LrF5q1Z3hpK_"
      },
      "execution_count": null,
      "outputs": []
    },
    {
      "cell_type": "code",
      "source": [
        "# Print a summary of the linear regression model obtained\n",
        "print(lr4.summary())"
      ],
      "metadata": {
        "trusted": true,
        "id": "tdFyk6jnhpK_"
      },
      "execution_count": null,
      "outputs": []
    },
    {
      "cell_type": "markdown",
      "source": [
        "## Model 5"
      ],
      "metadata": {
        "id": "9M1g7x4dhpK_"
      }
    },
    {
      "cell_type": "markdown",
      "source": [
        "- Removing the variable 'mnth_10' based on its Very High p-value."
      ],
      "metadata": {
        "id": "E-iCgYvMhpK_"
      }
    },
    {
      "cell_type": "code",
      "source": [
        "X_train_new = X_train_new.drop([\"mnth_10\"], axis = 1)"
      ],
      "metadata": {
        "trusted": true,
        "id": "ly37aVaFhpK_"
      },
      "execution_count": null,
      "outputs": []
    },
    {
      "cell_type": "markdown",
      "source": [
        "### VIF Check"
      ],
      "metadata": {
        "id": "nJWVDU3KhpK_"
      }
    },
    {
      "cell_type": "code",
      "source": [
        "# Check for the VIF values of the feature variables.\n",
        "from statsmodels.stats.outliers_influence import variance_inflation_factor\n",
        "\n",
        "# Create a dataframe that will contain the names of all the feature variables and their respective VIFs\n",
        "vif = pd.DataFrame()\n",
        "vif['Features'] = X_train_new.columns\n",
        "vif['VIF'] = [variance_inflation_factor(X_train_new.values, i) for i in range(X_train_new.shape[1])]\n",
        "vif['VIF'] = round(vif['VIF'], 2)\n",
        "vif = vif.sort_values(by = \"VIF\", ascending = False)\n",
        "vif"
      ],
      "metadata": {
        "trusted": true,
        "id": "F3a-2y3lhpK_"
      },
      "execution_count": null,
      "outputs": []
    },
    {
      "cell_type": "code",
      "source": [
        "# Add a constant\n",
        "X_train_lm5 = sm.add_constant(X_train_new)\n",
        "\n",
        "# Create a first fitted model\n",
        "lr5 = sm.OLS(y_train, X_train_lm5).fit()"
      ],
      "metadata": {
        "trusted": true,
        "id": "5kGuo45ZhpK_"
      },
      "execution_count": null,
      "outputs": []
    },
    {
      "cell_type": "code",
      "source": [
        "# Check the parameters obtained\n",
        "\n",
        "lr5.params"
      ],
      "metadata": {
        "trusted": true,
        "id": "a7l6H6CuhpK_"
      },
      "execution_count": null,
      "outputs": []
    },
    {
      "cell_type": "code",
      "source": [
        "# Print a summary of the linear regression model obtained\n",
        "print(lr5.summary())"
      ],
      "metadata": {
        "trusted": true,
        "id": "dVH9RQj6hpLA"
      },
      "execution_count": null,
      "outputs": []
    },
    {
      "cell_type": "markdown",
      "source": [
        "## Model 6"
      ],
      "metadata": {
        "id": "vlzxN5W1hpLA"
      }
    },
    {
      "cell_type": "markdown",
      "source": [
        "- Removing the variable 'mnth_3' based on its High 'p-value'."
      ],
      "metadata": {
        "id": "yy7skaxKhpLA"
      }
    },
    {
      "cell_type": "code",
      "source": [
        "X_train_new = X_train_new.drop([\"mnth_3\"], axis = 1)"
      ],
      "metadata": {
        "trusted": true,
        "id": "SXSvu4h3hpLA"
      },
      "execution_count": null,
      "outputs": []
    },
    {
      "cell_type": "markdown",
      "source": [
        "### VIF Check"
      ],
      "metadata": {
        "id": "tKBxUCpOhpLA"
      }
    },
    {
      "cell_type": "code",
      "source": [
        "# Check for the VIF values of the feature variables.\n",
        "from statsmodels.stats.outliers_influence import variance_inflation_factor\n",
        "\n",
        "# Create a dataframe that will contain the names of all the feature variables and their respective VIFs\n",
        "vif = pd.DataFrame()\n",
        "vif['Features'] = X_train_new.columns\n",
        "vif['VIF'] = [variance_inflation_factor(X_train_new.values, i) for i in range(X_train_new.shape[1])]\n",
        "vif['VIF'] = round(vif['VIF'], 2)\n",
        "vif = vif.sort_values(by = \"VIF\", ascending = False)\n",
        "vif"
      ],
      "metadata": {
        "trusted": true,
        "id": "O1IyENVthpLA"
      },
      "execution_count": null,
      "outputs": []
    },
    {
      "cell_type": "code",
      "source": [
        "# Add a constant\n",
        "X_train_lm6 = sm.add_constant(X_train_new)\n",
        "\n",
        "# Create a first fitted model\n",
        "lr6 = sm.OLS(y_train, X_train_lm6).fit()"
      ],
      "metadata": {
        "trusted": true,
        "id": "Kd5nF6c9hpLA"
      },
      "execution_count": null,
      "outputs": []
    },
    {
      "cell_type": "code",
      "source": [
        "# Check the parameters obtained\n",
        "\n",
        "lr6.params"
      ],
      "metadata": {
        "trusted": true,
        "id": "E0XNvy7UhpLA"
      },
      "execution_count": null,
      "outputs": []
    },
    {
      "cell_type": "code",
      "source": [
        "# Print a summary of the linear regression model obtained\n",
        "print(lr6.summary())"
      ],
      "metadata": {
        "trusted": true,
        "id": "xlqmfES1hpLA"
      },
      "execution_count": null,
      "outputs": []
    },
    {
      "cell_type": "markdown",
      "source": [
        "### Insights\n",
        "- This model looks good, as there seems to be VERY LOW Multicollinearity between the predictors and the p-values for all the predictors seems to be significant. For now, we will consider this as our final model (unless the Test data metrics are not significantly close to this number)."
      ],
      "metadata": {
        "id": "QgDFqCgghpLA"
      }
    },
    {
      "cell_type": "markdown",
      "source": [
        "# Final Model Interpretation"
      ],
      "metadata": {
        "id": "qnCllfbFhpLB"
      }
    },
    {
      "cell_type": "markdown",
      "source": [
        "## Hypothesis Testing:"
      ],
      "metadata": {
        "id": "YMkp8ou7hpLB"
      }
    },
    {
      "cell_type": "markdown",
      "source": [
        "Hypothesis testing states that:\n",
        "- H0:B1=B2=...=Bn=0\n",
        "- H1:  at least one  Bi!=0"
      ],
      "metadata": {
        "id": "2Yax_FMHhpLB"
      }
    },
    {
      "cell_type": "markdown",
      "source": [
        "### lr6 model coefficient values"
      ],
      "metadata": {
        "id": "h6FeD3rAhpLB"
      }
    },
    {
      "cell_type": "markdown",
      "source": [
        "- const 0.084143\n",
        "- yr 0.230846\n",
        "- workingday 0.043203\n",
        "- temp 0.563615\n",
        "- windspeed -0.155191\n",
        "- season_2 0.082706\n",
        "- season_4 0.128744\n",
        "- mnth_9 0.094743\n",
        "- weekday_6 0.056909\n",
        "- weathersit_2 -0.074807\n",
        "- weathersit_3 -0.306992"
      ],
      "metadata": {
        "id": "VqzTny-VhpLB"
      }
    },
    {
      "cell_type": "markdown",
      "source": [
        "### Insights\n",
        "- From the lr6 model summary, it is evident that all our coefficients are not equal to zerowhich means **We REJECT the NULL HYPOTHESIS**\n",
        "    "
      ],
      "metadata": {
        "id": "eVW6wFx9hpLB"
      }
    },
    {
      "cell_type": "markdown",
      "source": [
        "### F Statistics"
      ],
      "metadata": {
        "id": "kPXul45yhpLB"
      }
    },
    {
      "cell_type": "markdown",
      "source": [
        "F-Statistics is used for testing the overall significance of the Model: Higher the F-Statistics, more significant the Model is.\n",
        "\n",
        "- F-statistic: 233.8\n",
        "- Prob (F-statistic): 3.77e-181\n",
        "\n",
        "The F-Statistics value of 233 (which is greater than 1) and the p-value of '~0.0000' states that the overall model is significant"
      ],
      "metadata": {
        "id": "z72cS7gKhpLB"
      }
    },
    {
      "cell_type": "markdown",
      "source": [
        "## The equation of best fitted surface based on model lr6:"
      ],
      "metadata": {
        "id": "2ll5bz3khpLB"
      }
    },
    {
      "cell_type": "markdown",
      "source": [
        "cnt = 0.084143 + (**yr** × 0.230846) + (**workingday** × 0.043203) + (**temp** × 0.563615) − (**windspeed** × 0.155191) + (**season2** × 0.082706) + (**season4** ×0.128744) + (**mnth9** × 0.094743) + (**weekday6** ×0.056909) − (**weathersit2** × 0.074807) − (**weathersit3** × 0.306992)"
      ],
      "metadata": {
        "id": "hHLhzOtthpLB"
      }
    },
    {
      "cell_type": "markdown",
      "source": [
        "## Interpretation of Coefficients:\n",
        "**temp:** A coefficient value of ‘0.5636’ indicated that a unit increase in temp variable, increases the bike hire numbers by 0.5636 units.\n",
        "\n",
        "**weathersit_3:** A coefficient value of ‘-0.3070’ indicated that, w.r.t Weathersit1, a unit increase in Weathersit3 variable, decreases the bike hire numbers by 0.3070 units.\n",
        "\n",
        "**yr:** A coefficient value of ‘0.2308’ indicated that a unit increase in yr variable, increases the bike hire numbers by 0.2308 units.\n",
        "\n",
        "**season_4:** A coefficient value of ‘0.128744’ indicated that w.r.t season_1, a unit increase in season_4 variable increases the bike hire numbers by 0.128744 units.\n",
        "\n",
        "**windspeed:** A coefficient value of ‘-0.155191’ indicated that, a unit increase in windspeed variable decreases the bike hire numbers by 0.155191 units.\n",
        "\n",
        "**workingday:** A coefficient value of ‘0.043203’ indicated that, a unit increase in workingday variable increases the bike hire numbers by 0.043203 units.\n",
        "\n",
        "**season_2:** A coefficient value of ‘0.082706’ indicated that w.r.t season_1, a unit increase in season_2 variable decreases the bike hire numbers by 0.082706 units.\n",
        "\n",
        "**mnth_9:** A coefficient value of ‘0.094743’ indicated that w.r.t mnth_1, a unit increase in mnth_9 variable increases the bike hire numbers by 0.094743 units.\n",
        "\n",
        "**weekday_6:** A coefficient value of ‘0.056909’ indicated that w.r.t weekday_1, a unit increase in weekday_6 variable increases the bike hire numbers by 0.056909 units.\n",
        "\n",
        "**weathersit_2:** A coefficient value of ‘-0.074807’ indicated that, w.r.t Weathersit1, a unit increase in Weathersit2 variable, decreases the bike hire numbers by 0.074807 units.\n",
        "\n",
        "**const:** The Constant value of ‘0.084143’ indicated that, in the absence of all other predictor variables (i.e. when x1,x2...xn =0), The bike rental can still increase by 0.084143 units."
      ],
      "metadata": {
        "id": "h7RzWYHWhpLB"
      }
    },
    {
      "cell_type": "markdown",
      "source": [
        "# ASSUMPTIONS"
      ],
      "metadata": {
        "id": "uCaq47BZhpLB"
      }
    },
    {
      "cell_type": "markdown",
      "source": [
        "## Error terms are normally distributed with mean zero (not X, Y)\n",
        "- Residual Analysis Of Training Data"
      ],
      "metadata": {
        "id": "6xTFqvu8hpLC"
      }
    },
    {
      "cell_type": "code",
      "source": [
        "y_train_pred = lr6.predict(X_train_lm6)"
      ],
      "metadata": {
        "trusted": true,
        "id": "jzin4geQhpLC"
      },
      "execution_count": null,
      "outputs": []
    },
    {
      "cell_type": "code",
      "source": [
        "res = y_train-y_train_pred\n",
        "# Plot the histogram of the error terms\n",
        "fig = plt.figure()\n",
        "sns.distplot((res), bins = 20)\n",
        "fig.suptitle('Error Terms', fontsize = 20)                  # Plot heading\n",
        "plt.xlabel('Errors', fontsize = 18)                         # X-label"
      ],
      "metadata": {
        "trusted": true,
        "id": "M5tl3lmIhpLC"
      },
      "execution_count": null,
      "outputs": []
    },
    {
      "cell_type": "markdown",
      "source": [
        "### Insights\n",
        "- From the above histogram, we could see that the Residuals are normally distributed. Hence our assumption for Linear Regression is valid."
      ],
      "metadata": {
        "id": "NmdaKhu5hpLC"
      }
    },
    {
      "cell_type": "markdown",
      "source": [
        "## There is a linear relationship between X and Y"
      ],
      "metadata": {
        "id": "nILyFoCihpLC"
      }
    },
    {
      "cell_type": "code",
      "source": [
        "bike_new=bike_new[[ 'temp', 'atemp', 'hum', 'windspeed','cnt']]\n",
        "\n",
        "sns.pairplot(bike_num, diag_kind='kde')\n",
        "plt.show()"
      ],
      "metadata": {
        "trusted": true,
        "id": "YOAObPZihpLC"
      },
      "execution_count": null,
      "outputs": []
    },
    {
      "cell_type": "markdown",
      "source": [
        "## Insight\n",
        "- Using the pair plot, we could see there is a linear relation between temp and atemp variable with the predictor ‘cnt’."
      ],
      "metadata": {
        "id": "OaiPOgnYhpLC"
      }
    },
    {
      "cell_type": "markdown",
      "source": [
        "## There is No Multicollinearity between the predictor variables"
      ],
      "metadata": {
        "id": "6B-SQusXhpLC"
      }
    },
    {
      "cell_type": "code",
      "source": [
        "# Check for the VIF values of the feature variables.\n",
        "from statsmodels.stats.outliers_influence import variance_inflation_factor\n",
        "\n",
        "# Create a dataframe that will contain the names of all the feature variables and their respective VIFs\n",
        "vif = pd.DataFrame()\n",
        "vif['Features'] = X_train_new.columns\n",
        "vif['VIF'] = [variance_inflation_factor(X_train_new.values, i) for i in range(X_train_new.shape[1])]\n",
        "vif['VIF'] = round(vif['VIF'], 2)\n",
        "vif = vif.sort_values(by = \"VIF\", ascending = False)\n",
        "vif"
      ],
      "metadata": {
        "trusted": true,
        "id": "_sGtt6PphpLD"
      },
      "execution_count": null,
      "outputs": []
    },
    {
      "cell_type": "markdown",
      "source": [
        "## Insight\n",
        "\n",
        " - From the VIF calculation we could find that there is no multicollinearity existing between the predictor variables, as all the values are within permissible range of below 5"
      ],
      "metadata": {
        "id": "k4Oa-yxOhpLD"
      }
    },
    {
      "cell_type": "markdown",
      "source": [
        "# MAKING PREDICTION USING FINAL MODEL\n",
        "\n",
        "Now that we have fitted the model and checked the assumptions, it's time to go ahead and make predictions using the final model (lr6)\n",
        "\n",
        "### Applying the scaling on the test sets"
      ],
      "metadata": {
        "id": "IylFdjlphpLD"
      }
    },
    {
      "cell_type": "code",
      "source": [
        "# Apply scaler() to all numeric variables in test dataset. Note: we will only use scaler.transform,\n",
        "# as we want to use the metrics that the model learned from the training data to be applied on the test data.\n",
        "# In other words, we want to prevent the information leak from train to test dataset.\n",
        "\n",
        "num_vars = ['temp', 'atemp', 'hum', 'windspeed','cnt']\n",
        "\n",
        "df_test[num_vars] = scaler.transform(df_test[num_vars])"
      ],
      "metadata": {
        "trusted": true,
        "id": "kliQPmQ0hpLD"
      },
      "execution_count": null,
      "outputs": []
    },
    {
      "cell_type": "code",
      "source": [
        "df_test.head()"
      ],
      "metadata": {
        "trusted": true,
        "id": "RozqdAmDhpLD"
      },
      "execution_count": null,
      "outputs": []
    },
    {
      "cell_type": "code",
      "source": [
        "df_test.describe()"
      ],
      "metadata": {
        "trusted": true,
        "id": "RxHKMy9thpLD"
      },
      "execution_count": null,
      "outputs": []
    },
    {
      "cell_type": "markdown",
      "source": [
        "### Dividing into X_test and y_test"
      ],
      "metadata": {
        "id": "RFDl_X7OhpLD"
      }
    },
    {
      "cell_type": "code",
      "source": [
        "y_test = df_test.pop('cnt')\n",
        "X_test = df_test\n",
        "X_test.info()"
      ],
      "metadata": {
        "trusted": true,
        "id": "JI5bxEWfhpLD"
      },
      "execution_count": null,
      "outputs": []
    },
    {
      "cell_type": "code",
      "source": [
        "#Selecting the variables that were part of final model.\n",
        "col1=X_train_new.columns\n",
        "X_test=X_test[col1]\n",
        "# Adding constant variable to test dataframe\n",
        "X_test_lm6 = sm.add_constant(X_test)\n",
        "X_test_lm6.info()"
      ],
      "metadata": {
        "trusted": true,
        "id": "UKsQvkSphpLD"
      },
      "execution_count": null,
      "outputs": []
    },
    {
      "cell_type": "code",
      "source": [
        "# Making predictions using the final model (lr6)\n",
        "\n",
        "y_pred = lr6.predict(X_test_lm6)"
      ],
      "metadata": {
        "trusted": true,
        "id": "7a-tTltohpLD"
      },
      "execution_count": null,
      "outputs": []
    },
    {
      "cell_type": "markdown",
      "source": [
        "# MODEL EVALUATION"
      ],
      "metadata": {
        "id": "pCY5xdUphpLD"
      }
    },
    {
      "cell_type": "code",
      "source": [
        "# Plotting y_test and y_pred to understand the spread\n",
        "\n",
        "fig = plt.figure()\n",
        "plt.scatter(y_test, y_pred, alpha=.5)\n",
        "fig.suptitle('y_test vs y_pred', fontsize = 20)              # Plot heading\n",
        "plt.xlabel('y_test', fontsize = 18)                          # X-label\n",
        "plt.ylabel('y_pred', fontsize = 16)\n",
        "plt.show()"
      ],
      "metadata": {
        "trusted": true,
        "id": "IQjst33zhpLE"
      },
      "execution_count": null,
      "outputs": []
    },
    {
      "cell_type": "markdown",
      "source": [
        " # R^2 Value for TEST"
      ],
      "metadata": {
        "id": "t-wFZs5ChpLE"
      }
    },
    {
      "cell_type": "code",
      "source": [
        "from sklearn.metrics import r2_score\n",
        "r2_score(y_test, y_pred)"
      ],
      "metadata": {
        "trusted": true,
        "id": "Tv7kwZfchpLE"
      },
      "execution_count": null,
      "outputs": []
    },
    {
      "cell_type": "markdown",
      "source": [
        "## Adjusted R^2 Value for TEST"
      ],
      "metadata": {
        "id": "HK-AhguuhpLE"
      }
    },
    {
      "cell_type": "code",
      "source": [
        "# We already have the value of R^2 (calculated in above step)\n",
        "\n",
        "r2=0.8203092200749708"
      ],
      "metadata": {
        "trusted": true,
        "id": "wnHCdqc6hpLE"
      },
      "execution_count": null,
      "outputs": []
    },
    {
      "cell_type": "code",
      "source": [
        "# Get the shape of X_test\n",
        "X_test.shape\n"
      ],
      "metadata": {
        "trusted": true,
        "id": "DuBsIWdFhpLF"
      },
      "execution_count": null,
      "outputs": []
    },
    {
      "cell_type": "code",
      "source": [
        "# n is number of rows in X\n",
        "\n",
        "n = X_test.shape[0]\n",
        "\n",
        "\n",
        "# Number of features (predictors, p) is the shape along axis 1\n",
        "p = X_test.shape[1]\n",
        "\n",
        "# We find the Adjusted R-squared using the formula\n",
        "\n",
        "adjusted_r2 = 1-(1-r2)*(n-1)/(n-p-1)\n",
        "adjusted_r2"
      ],
      "metadata": {
        "trusted": true,
        "id": "_8HMVtDthpLF"
      },
      "execution_count": null,
      "outputs": []
    },
    {
      "cell_type": "markdown",
      "source": [
        "# Final Result Comparison"
      ],
      "metadata": {
        "id": "rKh1pnkVhpLF"
      }
    },
    {
      "cell_type": "markdown",
      "source": [
        "- Train R^2 :0.824\n",
        "- Train Adjusted R^2 :0.821\n",
        "- Test R^2 :0.820\n",
        "- Test Adjusted R^2 :0.812\n",
        "- This seems to be a really good model that can very well 'Generalize' various datasets."
      ],
      "metadata": {
        "id": "RVaPzTpehpLF"
      }
    },
    {
      "cell_type": "markdown",
      "source": [
        "# FINAL REPORT"
      ],
      "metadata": {
        "id": "tus-VmQuhpLF"
      }
    },
    {
      "cell_type": "markdown",
      "source": [
        "As per our final Model, the top 3 predictor variables that influences the bike booking are:\n",
        "- **Temperature (temp)** - A coefficient value of ‘0.5636’ indicated that a unit increase in temp variable increases the bike hire numbers by 0.5636 units.\n",
        "- **Weather Situation 3 (weathersit_3)** - A coefficient value of ‘-0.3070’ indicated that, w.r.t Weathersit1, a unit increase in Weathersit3 variable decreases the bike hire numbers by 0.3070 units.\n",
        "- **Year (yr)** - A coefficient value of ‘0.2308’ indicated that a unit increase in yr variable increases the bike hire numbers by 0.2308 units.\n",
        "\n",
        "#### So, it's suggested to consider these variables utmost importance while planning, to achive maximum Booking\n",
        "\n",
        "The next best features that can also be considered are\n",
        "- **season_4:** - A coefficient value of ‘0.128744’ indicated that w.r.t season_1, a unit increase in season_4 variable increases the bike hire numbers by 0.128744 units.\n",
        "- **windspeed:** - A coefficient value of ‘-0.155191’ indicated that, a unit increase in windspeed variable decreases the bike hire numbers by 0.155191 units.\n",
        "\n",
        " #### NOTE:\n",
        " - The details of weathersit_1 & weathersit_3\n",
        " - **weathersit_1:** Clear, Few clouds, Partly cloudy, Partly cloudy\n",
        " - **weathersit_3:** Light Snow, Light Rain + Thunderstorm + Scattered clouds, Light Rain + Scattered clouds\n",
        "\n",
        "\n",
        " The details of season1 & season4\n",
        " - **season1:** spring\n",
        " - **season4:** winter"
      ],
      "metadata": {
        "id": "WKRM9DgchpLF"
      }
    }
  ]
}